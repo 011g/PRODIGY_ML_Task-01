{
 "cells": [
  {
   "cell_type": "raw",
   "id": "68802e71",
   "metadata": {},
   "source": [
    "1.Random Forest Regressor\n",
    "Mean: 29069.768643616404\n",
    "Standard Deviation 20815.706907460648\n",
    "\n",
    "2.Linear regression\n",
    "Mean: 32302.951288213964\n",
    "Standard Deviation 22517.159521038953\n",
    "\n",
    "3.Decision Tree\n",
    "Mean: 38186.5565229024\n",
    "Standard Deviation 25373.444992025194"
   ]
  }
 ],
 "metadata": {
  "kernelspec": {
   "display_name": "Python 3 (ipykernel)",
   "language": "python",
   "name": "python3"
  },
  "language_info": {
   "codemirror_mode": {
    "name": "ipython",
    "version": 3
   },
   "file_extension": ".py",
   "mimetype": "text/x-python",
   "name": "python",
   "nbconvert_exporter": "python",
   "pygments_lexer": "ipython3",
   "version": "3.11.5"
  }
 },
 "nbformat": 4,
 "nbformat_minor": 5
}
